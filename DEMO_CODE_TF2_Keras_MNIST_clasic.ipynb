{
  "cells": [
    {
      "cell_type": "markdown",
      "metadata": {
        "id": "view-in-github",
        "colab_type": "text"
      },
      "source": [
        "<a href=\"https://colab.research.google.com/github/ddaci/RNP_5/blob/main/DEMO_CODE_TF2_Keras_MNIST_clasic.ipynb\" target=\"_parent\"><img src=\"https://colab.research.google.com/assets/colab-badge.svg\" alt=\"Open In Colab\"/></a>"
      ]
    },
    {
      "cell_type": "markdown",
      "metadata": {
        "id": "Mg-hXgrzcGBi"
      },
      "source": [
        "# Classify MNIST with CNN in Keras using TensorFlow 2.0\n",
        "\n",
        "**@Catalin Caleanu, 2019**\n",
        "\n",
        "Adapted from:"
      ]
    },
    {
      "cell_type": "markdown",
      "metadata": {
        "id": "r2NPAI4jZZgi"
      },
      "source": [
        "**[1] George Seif, A Quick Introduction to TensorFlow 2.0 for Deep Learning**\n",
        "\n",
        "https://towardsdatascience.com/a-quick-introduction-to-tensorflow-2-0-for-deep-learning-e740ca2e974c\n",
        "\n",
        "**[2] Adrian Rosebrock, \"3 ways to create a Keras model with TensorFlow 2.0 (Sequential, Functional, and Model Subclassing\"**\n",
        "\n",
        "https://www.pyimagesearch.com/2019/10/28/3-ways-to-create-a-keras-model-with-tensorflow-2-0-sequential-functional-and-model-subclassing/"
      ]
    },
    {
      "cell_type": "markdown",
      "metadata": {
        "id": "BIqCJe_xcOU5"
      },
      "source": [
        "## Imports"
      ]
    },
    {
      "cell_type": "code",
      "execution_count": null,
      "metadata": {
        "id": "J76ctP9PT-9N",
        "outputId": "bb1ddbc0-8f12-4747-9841-91c3ef002d60"
      },
      "outputs": [
        {
          "name": "stdout",
          "output_type": "stream",
          "text": [
            "2.0.0\n"
          ]
        }
      ],
      "source": [
        "import tensorflow as tf\n",
        "import numpy as np\n",
        "from tensorflow.keras import datasets, layers, models, optimizers\n",
        "import matplotlib.pyplot as plt\n",
        "# Check tf version\n",
        "print(tf.__version__)\n",
        "%matplotlib inline"
      ]
    },
    {
      "cell_type": "markdown",
      "metadata": {
        "id": "Ixyte299ZZgk"
      },
      "source": [
        "## The Dataset\n",
        "\n",
        "MNIST dataset which contains 60,000 training images and 10,000 test images of handwritten digits from 0 to 9, size 28x28."
      ]
    },
    {
      "cell_type": "markdown",
      "metadata": {
        "id": "wa0HE1nXcT7Q"
      },
      "source": [
        "## Loading data and visualisation"
      ]
    },
    {
      "cell_type": "code",
      "execution_count": null,
      "metadata": {
        "id": "z9mgIS8lVyb6",
        "outputId": "54df328f-45f2-477c-83bb-be396be2609a"
      },
      "outputs": [
        {
          "name": "stdout",
          "output_type": "stream",
          "text": [
            "train_images shape: (60000, 28, 28) train_labels shape: (60000,)\n"
          ]
        }
      ],
      "source": [
        "# Load the dataset\n",
        "(train_images, train_labels), (test_images, test_labels) = datasets.mnist.load_data()\n",
        "# Display the dimensions\n",
        "print(\"train_images shape:\", train_images.shape, \"train_labels shape:\", train_labels.shape)"
      ]
    },
    {
      "cell_type": "code",
      "execution_count": null,
      "metadata": {
        "colab": {
          "base_uri": "https://localhost:8080/",
          "height": 592
        },
        "id": "LCZyCK1JcBzV",
        "outputId": "237f686b-d44e-44b8-fe1d-6148156e8e2d"
      },
      "outputs": [
        {
          "data": {
            "image/png": "[encoded data removed]",
            "text/plain": [
              "<Figure size 720x720 with 25 Axes>"
            ]
          },
          "metadata": {},
          "output_type": "display_data"
        }
      ],
      "source": [
        "# Define the text labels\n",
        "mnist_labels = ['zero', 'one', 'two', 'three', 'four', 'five',\n",
        "               'six', 'seven', 'eight', 'nine']\n",
        "\n",
        "# Show first 25 images from the training dataset\n",
        "plt.figure(figsize=(10,10))\n",
        "for i in range(25):\n",
        "    plt.subplot(5, 5, i+1)\n",
        "    plt.xticks([])\n",
        "    plt.yticks([])\n",
        "    plt.imshow(train_images[i], cmap=plt.cm.brg)\n",
        "    plt.xlabel(mnist_labels[train_labels[i]])\n",
        "plt.show()"
      ]
    },
    {
      "cell_type": "markdown",
      "metadata": {
        "id": "Zx-Ee6LHZZgt"
      },
      "source": [
        "## Data normalization\n",
        "Normalize the data dimensions so that they are of the same scale. Scale these values to a range of 0 to 1 before feeding them to the neural network model."
      ]
    },
    {
      "cell_type": "code",
      "execution_count": null,
      "metadata": {
        "id": "fro5wEeqltYG"
      },
      "outputs": [],
      "source": [
        "# Reshape input data from (28, 28) to (28, 28, 1) as\n",
        "# mnist.load_data() supplies the MNIST digits with structure (nb_samples, 28, 28)\n",
        "# The Convolution2D layers in Keras however, are designed to work with 3 dimensions per example\n",
        "# They have 4-dimensional inputs and outputs. This covers colour images (nb_samples, nb_channels, width, height)\n",
        "\n",
        "train_images = train_images.reshape(60000, 28, 28, 1).astype('float32') / 255.0\n",
        "test_images = test_images.reshape(10000, 28, 28, 1).astype('float32') / 255.0\n",
        "\n",
        "# One-hot encode the labels\n",
        "train_labels = tf.keras.utils.to_categorical(train_labels, 10)\n",
        "test_labels = tf.keras.utils.to_categorical(test_labels, 10)"
      ]
    },
    {
      "cell_type": "markdown",
      "metadata": {
        "id": "CFlNHktHBtru"
      },
      "source": [
        "## Split the data into train/validation/test data sets\n",
        "\n",
        "\n",
        "*   Training data - used for training the model\n",
        "*   Validation data - used for tuning the hyperparameters and evaluate the models\n",
        "*   Test data - used to test the model after the model has gone through initial vetting by the validation set.\n",
        "\n"
      ]
    },
    {
      "cell_type": "code",
      "execution_count": null,
      "metadata": {
        "colab": {
          "base_uri": "https://localhost:8080/",
          "height": 86
        },
        "id": "1ShU787gZZg0",
        "outputId": "2016e59c-a88b-4ecd-c9fa-1177011877d1"
      },
      "outputs": [
        {
          "name": "stdout",
          "output_type": "stream",
          "text": [
            "train_images shape: (55000, 28, 28, 1) train_labels shape: (55000, 10)\n",
            "55000 train set\n",
            "5000 validation set\n",
            "10000 test set\n"
          ]
        }
      ],
      "source": [
        "# Further break training data into train / validation sets\n",
        "# put 5000 into validation set and keep remaining 55,000 for train)\n",
        "\n",
        "(train_images, x_valid) = train_images[5000:], train_images[:5000]\n",
        "(train_labels, y_valid) = train_labels[5000:], train_labels[:5000]\n",
        "\n",
        "# Print training set shape\n",
        "print(\"train_images shape:\", train_images.shape, \"train_labels shape:\", train_labels.shape)\n",
        "\n",
        "# Print the number of training, validation, and test datasets\n",
        "print(train_images.shape[0], 'train set')\n",
        "print(x_valid.shape[0], 'validation set')\n",
        "print(test_images.shape[0], 'test set')"
      ]
    },
    {
      "cell_type": "markdown",
      "metadata": {
        "id": "5bzF0Tn2hr9G"
      },
      "source": [
        "## Model Definition\n",
        "\n",
        "Keras and TensorFlow 2.0 provide you with three methods to implement your own neural network architectures:\n",
        "\n",
        "* **Sequential API**\n",
        "\n",
        "    A sequential model, as the name suggests, allows you to create models layer-by-layer in a step-by-step fashion. Keras Sequential API is by far the easiest way to get up and running with Keras, but it’s also the most limited — you cannot create models that:\n",
        "    * Share layers\n",
        "    * Have branches (at least not easily)\n",
        "    * Have multiple inputs\n",
        "    * Have multiple outputs\n",
        "   \n",
        "   Examples of seminal sequential architectures that you may have already used or implemented include:\n",
        "        * LeNet\n",
        "        * AlexNet\n",
        "        * VGGNet\n",
        "    \n",
        "    \n",
        "* **Functional API**\n",
        "\n",
        "    Keras’ Functional API is easy to use and is typically favored by most deep learning practitioners who use the Keras deep learning library. Using the Functional API you can:\n",
        "    * Create more complex models.\n",
        "    * Have multiple inputs and multiple outputs.\n",
        "    * Easily define branches in your architectures (ex., an Inception block, ResNet block, etc.).\n",
        "    * Design directed acyclic graphs (DAGs).\n",
        "    * Easily share layers inside the architecture.\n",
        "    **Furthermore, any Sequential model can be implemented using Keras’ Functional API.**\n",
        "\n",
        "    Examples of models that have Functional characteristics (such as layer branching) include:\n",
        "        * ResNet\n",
        "        * GoogLeNet/Inception\n",
        "        * Xception\n",
        "        * SqueezeNet\n",
        "\n",
        "\n",
        "* **Model subclassing**"
      ]
    },
    {
      "cell_type": "markdown",
      "metadata": {
        "id": "jBv3FuXoeE2r"
      },
      "source": [
        "![keras_3_model_types_header.png](../Assets/keras_3_model_types_header.png)\n",
        "<center>Fig. 1. Keras models.</center>\n"
      ]
    },
    {
      "cell_type": "code",
      "execution_count": null,
      "metadata": {
        "colab": {
          "base_uri": "https://localhost:8080/",
          "height": 756
        },
        "id": "nKVnNqnOhrSb",
        "outputId": "a87e21d4-fb9a-4a59-f9bc-72943b3aaa59"
      },
      "outputs": [
        {
          "name": "stdout",
          "output_type": "stream",
          "text": [
            "Model: \"sequential\"\n",
            "_________________________________________________________________\n",
            "Layer (type)                 Output Shape              Param #   \n",
            "=================================================================\n",
            "conv2d (Conv2D)              (None, 28, 28, 32)        320       \n",
            "_________________________________________________________________\n",
            "activation (Activation)      (None, 28, 28, 32)        0         \n",
            "_________________________________________________________________\n",
            "conv2d_1 (Conv2D)            (None, 14, 14, 32)        9248      \n",
            "_________________________________________________________________\n",
            "activation_1 (Activation)    (None, 14, 14, 32)        0         \n",
            "_________________________________________________________________\n",
            "conv2d_2 (Conv2D)            (None, 14, 14, 64)        18496     \n",
            "_________________________________________________________________\n",
            "activation_2 (Activation)    (None, 14, 14, 64)        0         \n",
            "_________________________________________________________________\n",
            "conv2d_3 (Conv2D)            (None, 7, 7, 64)          36928     \n",
            "_________________________________________________________________\n",
            "activation_3 (Activation)    (None, 7, 7, 64)          0         \n",
            "_________________________________________________________________\n",
            "conv2d_4 (Conv2D)            (None, 7, 7, 64)          36928     \n",
            "_________________________________________________________________\n",
            "activation_4 (Activation)    (None, 7, 7, 64)          0         \n",
            "_________________________________________________________________\n",
            "conv2d_5 (Conv2D)            (None, 7, 7, 64)          36928     \n",
            "_________________________________________________________________\n",
            "activation_5 (Activation)    (None, 7, 7, 64)          0         \n",
            "_________________________________________________________________\n",
            "global_average_pooling2d (Gl (None, 64)                0         \n",
            "_________________________________________________________________\n",
            "dense (Dense)                (None, 32)                2080      \n",
            "_________________________________________________________________\n",
            "activation_6 (Activation)    (None, 32)                0         \n",
            "_________________________________________________________________\n",
            "dense_1 (Dense)              (None, 10)                330       \n",
            "_________________________________________________________________\n",
            "activation_7 (Activation)    (None, 10)                0         \n",
            "=================================================================\n",
            "Total params: 141,258\n",
            "Trainable params: 141,258\n",
            "Non-trainable params: 0\n",
            "_________________________________________________________________\n"
          ]
        }
      ],
      "source": [
        "# Sequential API\n",
        "\n",
        "IMG_SIZE = (28, 28, 1)\n",
        "model = models.Sequential()\n",
        "\n",
        "model.add(layers.Input(shape=IMG_SIZE))\n",
        "\n",
        "model.add(layers.Conv2D(filters=32, kernel_size=(3, 3), padding='same'))\n",
        "model.add(layers.Activation('relu'))\n",
        "model.add(layers.Conv2D(filters=32, kernel_size=(3, 3), padding='same', strides=(2, 2)))\n",
        "model.add(layers.Activation('relu'))\n",
        "\n",
        "model.add(layers.Conv2D(filters=64, kernel_size=(3, 3), padding='same'))\n",
        "model.add(layers.Activation('relu'))\n",
        "model.add(layers.Conv2D(filters=64, kernel_size=(3, 3), padding='same', strides=(2, 2)))\n",
        "model.add(layers.Activation('relu'))\n",
        "\n",
        "model.add(layers.Conv2D(filters=64, kernel_size=(3, 3), padding='same'))\n",
        "model.add(layers.Activation('relu'))\n",
        "model.add(layers.Conv2D(filters=64, kernel_size=(3, 3), padding='same'))\n",
        "model.add(layers.Activation('relu'))\n",
        "\n",
        "model.add(layers.GlobalAveragePooling2D())\n",
        "model.add(layers.Dense(32))\n",
        "model.add(layers.Activation('relu'))\n",
        "model.add(layers.Dense(10))\n",
        "model.add(layers.Activation('softmax'))\n",
        "\n",
        "model.summary()"
      ]
    },
    {
      "cell_type": "code",
      "execution_count": null,
      "metadata": {
        "colab": {
          "base_uri": "https://localhost:8080/",
          "height": 756
        },
        "outputId": "a87e21d4-fb9a-4a59-f9bc-72943b3aaa59",
        "id": "zYz-sk1EeE2s"
      },
      "outputs": [
        {
          "name": "stdout",
          "output_type": "stream",
          "text": [
            "Model: \"model\"\n",
            "_________________________________________________________________\n",
            "Layer (type)                 Output Shape              Param #   \n",
            "=================================================================\n",
            "input_2 (InputLayer)         [(None, 28, 28, 1)]       0         \n",
            "_________________________________________________________________\n",
            "conv2d_6 (Conv2D)            (None, 28, 28, 32)        320       \n",
            "_________________________________________________________________\n",
            "activation_8 (Activation)    (None, 28, 28, 32)        0         \n",
            "_________________________________________________________________\n",
            "conv2d_7 (Conv2D)            (None, 14, 14, 32)        9248      \n",
            "_________________________________________________________________\n",
            "activation_9 (Activation)    (None, 14, 14, 32)        0         \n",
            "_________________________________________________________________\n",
            "conv2d_8 (Conv2D)            (None, 14, 14, 64)        18496     \n",
            "_________________________________________________________________\n",
            "activation_10 (Activation)   (None, 14, 14, 64)        0         \n",
            "_________________________________________________________________\n",
            "conv2d_9 (Conv2D)            (None, 7, 7, 64)          36928     \n",
            "_________________________________________________________________\n",
            "activation_11 (Activation)   (None, 7, 7, 64)          0         \n",
            "_________________________________________________________________\n",
            "conv2d_10 (Conv2D)           (None, 7, 7, 64)          36928     \n",
            "_________________________________________________________________\n",
            "activation_12 (Activation)   (None, 7, 7, 64)          0         \n",
            "_________________________________________________________________\n",
            "conv2d_11 (Conv2D)           (None, 7, 7, 64)          36928     \n",
            "_________________________________________________________________\n",
            "activation_13 (Activation)   (None, 7, 7, 64)          0         \n",
            "_________________________________________________________________\n",
            "global_average_pooling2d_1 ( (None, 64)                0         \n",
            "_________________________________________________________________\n",
            "dense_2 (Dense)              (None, 32)                2080      \n",
            "_________________________________________________________________\n",
            "activation_14 (Activation)   (None, 32)                0         \n",
            "_________________________________________________________________\n",
            "dense_3 (Dense)              (None, 10)                330       \n",
            "_________________________________________________________________\n",
            "activation_15 (Activation)   (None, 10)                0         \n",
            "=================================================================\n",
            "Total params: 141,258\n",
            "Trainable params: 141,258\n",
            "Non-trainable params: 0\n",
            "_________________________________________________________________\n"
          ]
        }
      ],
      "source": [
        "# Functional API\n",
        "\n",
        "IMG_SIZE = (28, 28, 1)\n",
        "input_img = layers.Input(shape=IMG_SIZE)\n",
        "\n",
        "model = layers.Conv2D(32, (3, 3), padding='same')(input_img)\n",
        "model = layers.Activation('relu')(model)\n",
        "model = layers.Conv2D(32, (3, 3), padding='same', strides=(2, 2))(model)\n",
        "model = layers.Activation('relu')(model)\n",
        "\n",
        "model = layers.Conv2D(64, (3, 3), padding='same')(model)\n",
        "model = layers.Activation('relu')(model)\n",
        "model = layers.Conv2D(64, (3, 3), padding='same', strides=(2, 2))(model)\n",
        "model = layers.Activation('relu')(model)\n",
        "\n",
        "model = layers.Conv2D(64, (3, 3), padding='same')(model)\n",
        "model = layers.Activation('relu')(model)\n",
        "model = layers.Conv2D(64, (3, 3), padding='same')(model)\n",
        "model = layers.Activation('relu')(model)\n",
        "\n",
        "model = layers.GlobalAveragePooling2D()(model)\n",
        "model = layers.Dense(32)(model)\n",
        "model = layers.Activation('relu')(model)\n",
        "model = layers.Dense(10)(model)\n",
        "output_img = layers.Activation('softmax')(model)\n",
        "\n",
        "model = models.Model(input_img, output_img)\n",
        "\n",
        "model.summary()"
      ]
    },
    {
      "cell_type": "markdown",
      "metadata": {
        "id": "FhxJ5dinZZg8"
      },
      "source": [
        "## Compile the model\n",
        "Configure the learning process with compile() API before training the model. It receives three arguments:\n",
        "\n",
        "*   An optimizer\n",
        "*   A loss function\n",
        "*   A list of metrics\n"
      ]
    },
    {
      "cell_type": "code",
      "execution_count": null,
      "metadata": {
        "id": "2oX22Rfln6f5"
      },
      "outputs": [],
      "source": [
        "#adam = optimizers.Adam(lr=0.0001)\n",
        "model.compile(optimizer='adam', loss='categorical_crossentropy', metrics=[\"accuracy\"])"
      ]
    },
    {
      "cell_type": "markdown",
      "metadata": {
        "id": "nHzjHSbylqD6"
      },
      "source": [
        "## Train the model"
      ]
    },
    {
      "cell_type": "code",
      "execution_count": null,
      "metadata": {
        "colab": {
          "base_uri": "https://localhost:8080/",
          "height": 370
        },
        "id": "svQCwVMJmnP2",
        "outputId": "006928b0-f089-4ddb-df53-e355b13210c7"
      },
      "outputs": [
        {
          "name": "stdout",
          "output_type": "stream",
          "text": [
            "Train on 55000 samples, validate on 5000 samples\n",
            "Epoch 1/3\n",
            "55000/55000 [==============================] - 97s 2ms/sample - loss: 0.4124 - accuracy: 0.8634 - val_loss: 0.0733 - val_accuracy: 0.9798\n",
            "Epoch 2/3\n",
            "55000/55000 [==============================] - 99s 2ms/sample - loss: 0.0858 - accuracy: 0.9734 - val_loss: 0.0719 - val_accuracy: 0.9800\n",
            "Epoch 3/3\n",
            "55000/55000 [==============================] - 91s 2ms/sample - loss: 0.0583 - accuracy: 0.9824 - val_loss: 0.0487 - val_accuracy: 0.9868\n"
          ]
        }
      ],
      "source": [
        "history = model.fit(train_images, train_labels, epochs=3,\n",
        "                    validation_data=(x_valid, y_valid))"
      ]
    },
    {
      "cell_type": "code",
      "execution_count": null,
      "metadata": {
        "colab": {
          "base_uri": "https://localhost:8080/",
          "height": 300
        },
        "id": "JNTjhoAUquEW",
        "outputId": "87ba5c5e-3313-4a35-be6a-8b6e73b876d4"
      },
      "outputs": [
        {
          "data": {
            "text/plain": [
              "<matplotlib.legend.Legend at 0x21ae16e3cc8>"
            ]
          },
          "execution_count": 10,
          "metadata": {},
          "output_type": "execute_result"
        },
        {
          "data": {
            "image/png": "[encoded data removed]",
            "text/plain": [
              "<Figure size 432x288 with 1 Axes>"
            ]
          },
          "metadata": {
            "needs_background": "light"
          },
          "output_type": "display_data"
        }
      ],
      "source": [
        "plt.plot(history.history['accuracy'], label='accuracy')\n",
        "plt.plot(history.history['val_accuracy'], label='val_accuracy')\n",
        "plt.xlabel('Epoch')\n",
        "plt.ylabel('Accuracy')\n",
        "plt.ylim([0.7, 1])\n",
        "plt.legend(loc='best')"
      ]
    },
    {
      "cell_type": "code",
      "execution_count": null,
      "metadata": {
        "colab": {
          "base_uri": "https://localhost:8080/",
          "height": 300
        },
        "id": "64Z2Tjb8u5Xg",
        "outputId": "29820177-a4d1-433e-e346-cff788ad05d1"
      },
      "outputs": [
        {
          "data": {
            "text/plain": [
              "<matplotlib.legend.Legend at 0x21ae1aa1808>"
            ]
          },
          "execution_count": 11,
          "metadata": {},
          "output_type": "execute_result"
        },
        {
          "data": {
            "image/png": "[encoded data removed]",
            "text/plain": [
              "<Figure size 432x288 with 1 Axes>"
            ]
          },
          "metadata": {
            "needs_background": "light"
          },
          "output_type": "display_data"
        }
      ],
      "source": [
        "plt.plot(history.history['loss'], label='loss')\n",
        "plt.plot(history.history['val_loss'], label='val_loss')\n",
        "plt.xlabel('Epoch')\n",
        "plt.ylabel('Loss')\n",
        "plt.legend(loc='best')"
      ]
    },
    {
      "cell_type": "markdown",
      "metadata": {
        "id": "9RTRkan4yq5H"
      },
      "source": [
        "## Test Accuracy"
      ]
    },
    {
      "cell_type": "code",
      "execution_count": null,
      "metadata": {
        "colab": {
          "base_uri": "https://localhost:8080/",
          "height": 52
        },
        "id": "VZtqBqFFy62R",
        "outputId": "7cc9a4dd-1641-4a94-f4ce-c209cf9a142d"
      },
      "outputs": [
        {
          "name": "stdout",
          "output_type": "stream",
          "text": [
            "\n",
            " Test accuracy: 0.9854\n"
          ]
        }
      ],
      "source": [
        "# Evaluate the model on test set\n",
        "score = model.evaluate(test_images, test_labels, verbose=0)\n",
        "\n",
        "# Print test accuracy\n",
        "print('\\n', 'Test accuracy:', score[1])"
      ]
    },
    {
      "cell_type": "markdown",
      "metadata": {
        "id": "oJv7XEk10bOv"
      },
      "source": [
        "## Visualize prediction\n",
        "Now let's visualize the prediction using the model you just trained.\n",
        "First we get the predictions with the model from the test data.\n",
        "Then we print out 15 images from the test data set, and set the titles with the prediction (and the groud truth label).\n",
        "If the prediction matches the true label, the title will be green; otherwise it's displayed in red."
      ]
    },
    {
      "cell_type": "code",
      "execution_count": null,
      "metadata": {
        "colab": {
          "base_uri": "https://localhost:8080/",
          "height": 481
        },
        "id": "QwNmlfIC0YxM",
        "outputId": "dc74804f-8871-43a6-ea37-3ef4d57d413f"
      },
      "outputs": [
        {
          "data": {
            "image/png": "[encoded data removed]",
            "text/plain": [
              "<Figure size 1440x576 with 15 Axes>"
            ]
          },
          "metadata": {},
          "output_type": "display_data"
        }
      ],
      "source": [
        "y_hat = model.predict(test_images)\n",
        "\n",
        "# Plot a random sample of 10 test images, their predicted labels and ground truth\n",
        "figure = plt.figure(figsize=(20, 8))\n",
        "for i, index in enumerate(np.random.choice(test_images.shape[0], size=15, replace=False)):\n",
        "    ax = figure.add_subplot(3, 5, i + 1, xticks=[], yticks=[])\n",
        "    # Display each image\n",
        "    ax.imshow(np.squeeze(test_images[index]))\n",
        "    predict_index = np.argmax(y_hat[index])\n",
        "    true_index = np.argmax(test_labels[index])\n",
        "    # Set the title for each image\n",
        "    ax.set_title(\"{} ({})\".format(mnist_labels[predict_index],\n",
        "                                  mnist_labels[true_index]),\n",
        "                                  color=(\"green\" if predict_index == true_index else \"red\"))"
      ]
    },
    {
      "cell_type": "markdown",
      "metadata": {
        "id": "8AehWdRAVKN5"
      },
      "source": [
        "## Congragulations!\n",
        "You have successfully trained a CNN to classify MNIST."
      ]
    }
  ],
  "metadata": {
    "accelerator": "GPU",
    "colab": {
      "provenance": [],
      "include_colab_link": true
    },
    "kernelspec": {
      "display_name": "Python 3",
      "language": "python",
      "name": "python3"
    },
    "language_info": {
      "codemirror_mode": {
        "name": "ipython",
        "version": 3
      },
      "file_extension": ".py",
      "mimetype": "text/x-python",
      "name": "python",
      "nbconvert_exporter": "python",
      "pygments_lexer": "ipython3",
      "version": "3.7.6"
    }
  },
  "nbformat": 4,
  "nbformat_minor": 0
}